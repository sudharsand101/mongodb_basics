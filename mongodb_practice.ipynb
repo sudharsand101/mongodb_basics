{
 "cells": [
  {
   "cell_type": "code",
   "execution_count": 98,
   "id": "e46d252e-7448-471e-a32a-a4bb88c4b8b0",
   "metadata": {},
   "outputs": [
    {
     "data": {
      "text/html": [
       "<div>\n",
       "<style scoped>\n",
       "    .dataframe tbody tr th:only-of-type {\n",
       "        vertical-align: middle;\n",
       "    }\n",
       "\n",
       "    .dataframe tbody tr th {\n",
       "        vertical-align: top;\n",
       "    }\n",
       "\n",
       "    .dataframe thead th {\n",
       "        text-align: right;\n",
       "    }\n",
       "</style>\n",
       "<table border=\"1\" class=\"dataframe\">\n",
       "  <thead>\n",
       "    <tr style=\"text-align: right;\">\n",
       "      <th></th>\n",
       "      <th>learner_name</th>\n",
       "      <th>course</th>\n",
       "      <th>batch</th>\n",
       "      <th>institute</th>\n",
       "      <th>topic</th>\n",
       "    </tr>\n",
       "  </thead>\n",
       "  <tbody>\n",
       "    <tr>\n",
       "      <th>0</th>\n",
       "      <td>sudharsan</td>\n",
       "      <td>data science</td>\n",
       "      <td>D101</td>\n",
       "      <td>guvi</td>\n",
       "      <td>mongodb_practice</td>\n",
       "    </tr>\n",
       "  </tbody>\n",
       "</table>\n",
       "</div>"
      ],
      "text/plain": [
       "  learner_name        course batch institute             topic\n",
       "0    sudharsan  data science  D101      guvi  mongodb_practice"
      ]
     },
     "execution_count": 98,
     "metadata": {},
     "output_type": "execute_result"
    }
   ],
   "source": [
    "import pandas as pd\n",
    "data =[{'learner_name':'sudharsan','course':'data science','batch': 'D101','institute':'guvi','topic':'mongodb_practice'}]\n",
    "df = pd.DataFrame(data)\n",
    "df"
   ]
  },
  {
   "cell_type": "code",
   "execution_count": 1,
   "id": "ffbe4b38-da6c-42d9-b6fc-91b54cace570",
   "metadata": {},
   "outputs": [],
   "source": [
    "#)1. importing mongodb module\n",
    "import pymongo"
   ]
  },
  {
   "cell_type": "code",
   "execution_count": 2,
   "id": "d5307810-1e80-4c88-943a-cedcbc5b5a72",
   "metadata": {},
   "outputs": [],
   "source": [
    "#)2. creating connection between jupyter notebook to mongodb\n",
    "connection = pymongo.MongoClient('mongodb://127.0.0.1:27017/')"
   ]
  },
  {
   "cell_type": "code",
   "execution_count": 3,
   "id": "1303efa4-13e9-4286-ba7b-f3791c6365f5",
   "metadata": {},
   "outputs": [],
   "source": [
    "#)3. table(collection) creation in mongodb database\n",
    "db = connection['D101']\n",
    "collection = db['education']"
   ]
  },
  {
   "cell_type": "code",
   "execution_count": 19,
   "id": "9ac1fa49-dadc-4a24-a0de-784088b7ddf3",
   "metadata": {},
   "outputs": [
    {
     "data": {
      "text/plain": [
       "InsertOneResult(ObjectId('65f7461da2b16a388c188484'), acknowledged=True)"
      ]
     },
     "execution_count": 19,
     "metadata": {},
     "output_type": "execute_result"
    }
   ],
   "source": [
    "#) 4. inserting one doc\n",
    "data = {\n",
    "    'student_name':'Juniper',\n",
    "    'course':'DE',\n",
    "    'year':2023,\n",
    "    'marks':87.5,\n",
    "    'student_address': 'trichy',\n",
    "    'gender': 'F'\n",
    "}\n",
    "db.col.insert_one(data)"
   ]
  },
  {
   "cell_type": "code",
   "execution_count": 36,
   "id": "95cebc34-9d34-4ba7-94e8-b1508d528478",
   "metadata": {},
   "outputs": [
    {
     "name": "stdout",
     "output_type": "stream",
     "text": [
      "{'_id': ObjectId('65f7461da2b16a388c188484'), 'student_name': 'Juniper', 'course': 'DE', 'year': 2023, 'marks': 87.5, 'student_address': 'trichy', 'gender': 'F'}\n"
     ]
    }
   ],
   "source": [
    "#) 5. to show the inserted doc in database\n",
    "for doc in db.col.find():\n",
    "    print(doc)"
   ]
  },
  {
   "cell_type": "code",
   "execution_count": 37,
   "id": "7a01cfee-9673-4477-a51a-4356e48e8b7e",
   "metadata": {},
   "outputs": [
    {
     "data": {
      "text/plain": [
       "InsertManyResult([ObjectId('65f7488ba2b16a388c188485'), ObjectId('65f7488ba2b16a388c188486')], acknowledged=True)"
      ]
     },
     "execution_count": 37,
     "metadata": {},
     "output_type": "execute_result"
    }
   ],
   "source": [
    "#) 6. inserting many data\n",
    "data = [\n",
    "    {'student_name':'Devin','course':'DS','year':2020,'marks':63,'student_address': 'vellore','gender': 'M'},\n",
    "    {'student_name':'Brooke','course':'ML','year':2021,'marks':69,'student_address': 'nellai','gender': 'F'},\n",
    "]\n",
    "db.col.insert_many(data)"
   ]
  },
  {
   "cell_type": "code",
   "execution_count": 38,
   "id": "57c7371b-7c40-4ab3-b113-71bb4978e890",
   "metadata": {},
   "outputs": [
    {
     "name": "stdout",
     "output_type": "stream",
     "text": [
      "{'_id': ObjectId('65f7461da2b16a388c188484'), 'student_name': 'Juniper', 'course': 'DE', 'year': 2023, 'marks': 87.5, 'student_address': 'trichy', 'gender': 'F'}\n",
      "{'_id': ObjectId('65f7488ba2b16a388c188485'), 'student_name': 'Devin', 'course': 'DS', 'year': 2020, 'marks': 63, 'student_address': 'vellore', 'gender': 'M'}\n",
      "{'_id': ObjectId('65f7488ba2b16a388c188486'), 'student_name': 'Brooke', 'course': 'ML', 'year': 2021, 'marks': 69, 'student_address': 'nellai', 'gender': 'F'}\n"
     ]
    }
   ],
   "source": [
    "#) 5. to show the inserted doc in database\n",
    "for doc in db.col.find():\n",
    "    print(doc)"
   ]
  },
  {
   "cell_type": "code",
   "execution_count": 39,
   "id": "547c2a53-d13d-4d84-95b2-46051c1dbcba",
   "metadata": {},
   "outputs": [
    {
     "data": {
      "text/plain": [
       "InsertOneResult(1, acknowledged=True)"
      ]
     },
     "execution_count": 39,
     "metadata": {},
     "output_type": "execute_result"
    }
   ],
   "source": [
    "#) 7. inserting one doc with giving our own id name\n",
    "data = {'_id' :1,'student_name':'Asher','course':'DE','year':2022,'marks':93,'student_address': 'bangalore','gender': 'F'}\n",
    "db.col.insert_one(data)"
   ]
  },
  {
   "cell_type": "code",
   "execution_count": 40,
   "id": "62579b8c-e47c-41c1-8e8e-272635a62cb1",
   "metadata": {},
   "outputs": [
    {
     "name": "stdout",
     "output_type": "stream",
     "text": [
      "{'_id': ObjectId('65f7461da2b16a388c188484'), 'student_name': 'Juniper', 'course': 'DE', 'year': 2023, 'marks': 87.5, 'student_address': 'trichy', 'gender': 'F'}\n",
      "{'_id': ObjectId('65f7488ba2b16a388c188485'), 'student_name': 'Devin', 'course': 'DS', 'year': 2020, 'marks': 63, 'student_address': 'vellore', 'gender': 'M'}\n",
      "{'_id': ObjectId('65f7488ba2b16a388c188486'), 'student_name': 'Brooke', 'course': 'ML', 'year': 2021, 'marks': 69, 'student_address': 'nellai', 'gender': 'F'}\n",
      "{'_id': 1, 'student_name': 'Asher', 'course': 'DE', 'year': 2022, 'marks': 93, 'student_address': 'bangalore', 'gender': 'F'}\n"
     ]
    }
   ],
   "source": [
    "#) 5. to show the inserted doc in database\n",
    "for doc in db.col.find():\n",
    "    print(doc)"
   ]
  },
  {
   "cell_type": "code",
   "execution_count": 42,
   "id": "45a5deb7-8b95-40e6-b35c-b2b7dd544b88",
   "metadata": {},
   "outputs": [
    {
     "data": {
      "text/html": [
       "<div>\n",
       "<style scoped>\n",
       "    .dataframe tbody tr th:only-of-type {\n",
       "        vertical-align: middle;\n",
       "    }\n",
       "\n",
       "    .dataframe tbody tr th {\n",
       "        vertical-align: top;\n",
       "    }\n",
       "\n",
       "    .dataframe thead th {\n",
       "        text-align: right;\n",
       "    }\n",
       "</style>\n",
       "<table border=\"1\" class=\"dataframe\">\n",
       "  <thead>\n",
       "    <tr style=\"text-align: right;\">\n",
       "      <th></th>\n",
       "      <th>student_name</th>\n",
       "      <th>course</th>\n",
       "      <th>session</th>\n",
       "      <th>year</th>\n",
       "      <th>marks</th>\n",
       "      <th>student_address</th>\n",
       "      <th>gender</th>\n",
       "    </tr>\n",
       "  </thead>\n",
       "  <tbody>\n",
       "    <tr>\n",
       "      <th>0</th>\n",
       "      <td>Wyatt</td>\n",
       "      <td>AI</td>\n",
       "      <td>FN</td>\n",
       "      <td>2024</td>\n",
       "      <td>94.9</td>\n",
       "      <td>salem</td>\n",
       "      <td>M</td>\n",
       "    </tr>\n",
       "    <tr>\n",
       "      <th>1</th>\n",
       "      <td>Estelle</td>\n",
       "      <td>ML</td>\n",
       "      <td>AN</td>\n",
       "      <td>2023</td>\n",
       "      <td>76.5</td>\n",
       "      <td>chennai</td>\n",
       "      <td>F</td>\n",
       "    </tr>\n",
       "    <tr>\n",
       "      <th>2</th>\n",
       "      <td>Heath</td>\n",
       "      <td>DS</td>\n",
       "      <td>AN</td>\n",
       "      <td>2022</td>\n",
       "      <td>83.2</td>\n",
       "      <td>erode</td>\n",
       "      <td>M</td>\n",
       "    </tr>\n",
       "    <tr>\n",
       "      <th>3</th>\n",
       "      <td>Imogene</td>\n",
       "      <td>DE</td>\n",
       "      <td>AN</td>\n",
       "      <td>2024</td>\n",
       "      <td>72.4</td>\n",
       "      <td>coimbatore</td>\n",
       "      <td>F</td>\n",
       "    </tr>\n",
       "    <tr>\n",
       "      <th>4</th>\n",
       "      <td>Archer</td>\n",
       "      <td>DE</td>\n",
       "      <td>FN</td>\n",
       "      <td>2023</td>\n",
       "      <td>90.1</td>\n",
       "      <td>coimbatore</td>\n",
       "      <td>M</td>\n",
       "    </tr>\n",
       "    <tr>\n",
       "      <th>5</th>\n",
       "      <td>Penelope</td>\n",
       "      <td>ML</td>\n",
       "      <td>FN</td>\n",
       "      <td>2022</td>\n",
       "      <td>71.2</td>\n",
       "      <td>salem</td>\n",
       "      <td>F</td>\n",
       "    </tr>\n",
       "    <tr>\n",
       "      <th>6</th>\n",
       "      <td>Henry</td>\n",
       "      <td>ML</td>\n",
       "      <td>AN</td>\n",
       "      <td>2024</td>\n",
       "      <td>87.6</td>\n",
       "      <td>erode</td>\n",
       "      <td>M</td>\n",
       "    </tr>\n",
       "    <tr>\n",
       "      <th>7</th>\n",
       "      <td>Violet</td>\n",
       "      <td>DS</td>\n",
       "      <td>FN</td>\n",
       "      <td>2023</td>\n",
       "      <td>67.9</td>\n",
       "      <td>ooty</td>\n",
       "      <td>F</td>\n",
       "    </tr>\n",
       "    <tr>\n",
       "      <th>8</th>\n",
       "      <td>Theodore</td>\n",
       "      <td>AI</td>\n",
       "      <td>AN</td>\n",
       "      <td>2022</td>\n",
       "      <td>95.8</td>\n",
       "      <td>ooty</td>\n",
       "      <td>M</td>\n",
       "    </tr>\n",
       "    <tr>\n",
       "      <th>9</th>\n",
       "      <td>Verity</td>\n",
       "      <td>ML</td>\n",
       "      <td>FN</td>\n",
       "      <td>2023</td>\n",
       "      <td>81.2</td>\n",
       "      <td>chennai</td>\n",
       "      <td>F</td>\n",
       "    </tr>\n",
       "  </tbody>\n",
       "</table>\n",
       "</div>"
      ],
      "text/plain": [
       "  student_name course session  year  marks student_address gender\n",
       "0        Wyatt     AI      FN  2024   94.9           salem      M\n",
       "1      Estelle     ML      AN  2023   76.5         chennai      F\n",
       "2        Heath     DS      AN  2022   83.2           erode      M\n",
       "3      Imogene     DE      AN  2024   72.4      coimbatore      F\n",
       "4       Archer     DE      FN  2023   90.1      coimbatore      M\n",
       "5     Penelope     ML      FN  2022   71.2           salem      F\n",
       "6        Henry     ML      AN  2024   87.6           erode      M\n",
       "7       Violet     DS      FN  2023   67.9            ooty      F\n",
       "8     Theodore     AI      AN  2022   95.8            ooty      M\n",
       "9       Verity     ML      FN  2023   81.2         chennai      F"
      ]
     },
     "execution_count": 42,
     "metadata": {},
     "output_type": "execute_result"
    }
   ],
   "source": [
    "#) creating student_record_data and conerting into dataframe\n",
    "import pandas as pd\n",
    "df_record = pd.DataFrame()\n",
    "df_record['student_name'] = [\n",
    "    'Wyatt','Estelle','Heath','Imogene','Archer','Penelope','Henry','Violet','Theodore','Verity'\n",
    "]\n",
    "df_record['course']= [\n",
    "    'AI','ML','DS','DE','DE','ML','ML','DS','AI','ML'\n",
    "]\n",
    "df_record['session'] = [\n",
    "    'FN','AN','AN','AN','FN','FN','AN','FN','AN','FN'\n",
    "]\n",
    "df_record['year'] = [\n",
    "    2024,2023,2022,2024,2023,2022,2024,2023,2022,2023\n",
    "]\n",
    "df_record['marks'] = [\n",
    "    94.9,76.5,83.2,72.4,90.1,71.2,87.6,67.9,95.8,81.2\n",
    "]\n",
    "df_record['student_address'] = [\n",
    "    'salem','chennai','erode','coimbatore','coimbatore','salem','erode','ooty','ooty','chennai'\n",
    "]\n",
    "df_record['gender'] = [\n",
    "    'M','F','M','F','M','F','M','F','M','F'\n",
    "]\n",
    "df_record"
   ]
  },
  {
   "cell_type": "code",
   "execution_count": 43,
   "id": "fd5a3778-9c70-4135-90ff-17f9adbe7c70",
   "metadata": {},
   "outputs": [
    {
     "data": {
      "text/plain": [
       "InsertManyResult([ObjectId('65f749caa2b16a388c188487'), ObjectId('65f749caa2b16a388c188488'), ObjectId('65f749caa2b16a388c188489'), ObjectId('65f749caa2b16a388c18848a'), ObjectId('65f749caa2b16a388c18848b'), ObjectId('65f749caa2b16a388c18848c'), ObjectId('65f749caa2b16a388c18848d'), ObjectId('65f749caa2b16a388c18848e'), ObjectId('65f749caa2b16a388c18848f'), ObjectId('65f749caa2b16a388c188490')], acknowledged=True)"
      ]
     },
     "execution_count": 43,
     "metadata": {},
     "output_type": "execute_result"
    }
   ],
   "source": [
    "#) 8. inserting data from df to mongodb\n",
    "my_data = []\n",
    "\n",
    "for index in df_record.index:\n",
    "    row = df_record.loc[index]\n",
    "    row = row.to_dict()\n",
    "    my_data.append(row)\n",
    "\n",
    "db.col.insert_many(my_data)"
   ]
  },
  {
   "cell_type": "code",
   "execution_count": 4,
   "id": "2c3c600d-9578-4b6f-8cf3-6bdc115129bc",
   "metadata": {},
   "outputs": [
    {
     "name": "stdout",
     "output_type": "stream",
     "text": [
      "{'_id': ObjectId('65f7461da2b16a388c188484'), 'student_name': 'Juniper', 'course': 'DE', 'year': 2023, 'marks': 87.5, 'student_address': 'trichy', 'gender': 'F'}\n",
      "{'_id': ObjectId('65f7488ba2b16a388c188485'), 'student_name': 'Devin', 'course': 'DS', 'year': 2020, 'marks': 63, 'student_address': 'vellore', 'gender': 'M'}\n",
      "{'_id': ObjectId('65f7488ba2b16a388c188486'), 'student_name': 'Brooke', 'course': 'ML', 'year': 2021, 'marks': 69, 'student_address': 'nellai', 'gender': 'F'}\n",
      "{'_id': 1, 'student_name': 'Asher', 'course': 'DE', 'year': 2022, 'marks': 93, 'student_address': 'bangalore', 'gender': 'F'}\n",
      "{'_id': ObjectId('65f749caa2b16a388c188487'), 'student_name': 'Wyatt', 'course': 'AI', 'session': 'FN', 'year': 2024, 'marks': 94.9, 'student_address': 'salem', 'gender': 'M'}\n",
      "{'_id': ObjectId('65f749caa2b16a388c188488'), 'student_name': 'Estelle', 'course': 'ML', 'session': 'AN', 'year': 2023, 'marks': 76.5, 'student_address': 'chennai', 'gender': 'F'}\n",
      "{'_id': ObjectId('65f749caa2b16a388c188489'), 'student_name': 'Heath', 'course': 'DS', 'session': 'AN', 'year': 2022, 'marks': 83.2, 'student_address': 'erode', 'gender': 'M'}\n",
      "{'_id': ObjectId('65f749caa2b16a388c18848a'), 'student_name': 'Imogene', 'course': 'DE', 'session': 'AN', 'year': 2024, 'marks': 72.4, 'student_address': 'coimbatore', 'gender': 'F'}\n",
      "{'_id': ObjectId('65f749caa2b16a388c18848b'), 'student_name': 'Archer', 'course': 'DE', 'session': 'FN', 'year': 2023, 'marks': 90.1, 'student_address': 'coimbatore', 'gender': 'M'}\n",
      "{'_id': ObjectId('65f749caa2b16a388c18848c'), 'student_name': 'Penelope', 'course': 'ML', 'session': 'FN', 'year': 2022, 'marks': 71.2, 'student_address': 'salem', 'gender': 'F'}\n",
      "{'_id': ObjectId('65f749caa2b16a388c18848d'), 'student_name': 'Henry', 'course': 'ML', 'session': 'AN', 'year': 2024, 'marks': 87.6, 'student_address': 'erode', 'gender': 'M'}\n",
      "{'_id': ObjectId('65f749caa2b16a388c18848e'), 'student_name': 'Violet', 'course': 'DS', 'session': 'FN', 'year': 2023, 'marks': 67.9, 'student_address': 'ooty', 'gender': 'F'}\n",
      "{'_id': ObjectId('65f749caa2b16a388c18848f'), 'student_name': 'Theodore', 'course': 'AI', 'session': 'AN', 'year': 2022, 'marks': 95.8, 'student_address': 'ooty', 'gender': 'M'}\n",
      "{'_id': ObjectId('65f749caa2b16a388c188490'), 'student_name': 'Verity', 'course': 'ML', 'session': 'FN', 'year': 2023, 'marks': 81.2, 'student_address': 'chennai', 'gender': 'F'}\n"
     ]
    }
   ],
   "source": [
    "#) 5. to show the inserted doc in database\n",
    "for doc in db.col.find():\n",
    "    print(doc)"
   ]
  },
  {
   "cell_type": "code",
   "execution_count": 46,
   "id": "587947f8-6bca-4ba4-a5c8-4399b91048ad",
   "metadata": {},
   "outputs": [
    {
     "name": "stdout",
     "output_type": "stream",
     "text": [
      "{'student_name': 'Juniper', 'course': 'DE', 'year': 2023, 'marks': 87.5, 'student_address': 'trichy', 'gender': 'F'}\n",
      "{'student_name': 'Devin', 'course': 'DS', 'year': 2020, 'marks': 63, 'student_address': 'vellore', 'gender': 'M'}\n",
      "{'student_name': 'Brooke', 'course': 'ML', 'year': 2021, 'marks': 69, 'student_address': 'nellai', 'gender': 'F'}\n",
      "{'student_name': 'Asher', 'course': 'DE', 'year': 2022, 'marks': 93, 'student_address': 'bangalore', 'gender': 'F'}\n",
      "{'student_name': 'Wyatt', 'course': 'AI', 'session': 'FN', 'year': 2024, 'marks': 94.9, 'student_address': 'salem', 'gender': 'M'}\n",
      "{'student_name': 'Estelle', 'course': 'ML', 'session': 'AN', 'year': 2023, 'marks': 76.5, 'student_address': 'chennai', 'gender': 'F'}\n",
      "{'student_name': 'Heath', 'course': 'DS', 'session': 'AN', 'year': 2022, 'marks': 83.2, 'student_address': 'erode', 'gender': 'M'}\n",
      "{'student_name': 'Imogene', 'course': 'DE', 'session': 'AN', 'year': 2024, 'marks': 72.4, 'student_address': 'coimbatore', 'gender': 'F'}\n",
      "{'student_name': 'Archer', 'course': 'DE', 'session': 'FN', 'year': 2023, 'marks': 90.1, 'student_address': 'coimbatore', 'gender': 'M'}\n",
      "{'student_name': 'Penelope', 'course': 'ML', 'session': 'FN', 'year': 2022, 'marks': 71.2, 'student_address': 'salem', 'gender': 'F'}\n",
      "{'student_name': 'Henry', 'course': 'ML', 'session': 'AN', 'year': 2024, 'marks': 87.6, 'student_address': 'erode', 'gender': 'M'}\n",
      "{'student_name': 'Violet', 'course': 'DS', 'session': 'FN', 'year': 2023, 'marks': 67.9, 'student_address': 'ooty', 'gender': 'F'}\n",
      "{'student_name': 'Theodore', 'course': 'AI', 'session': 'AN', 'year': 2022, 'marks': 95.8, 'student_address': 'ooty', 'gender': 'M'}\n",
      "{'student_name': 'Verity', 'course': 'ML', 'session': 'FN', 'year': 2023, 'marks': 81.2, 'student_address': 'chennai', 'gender': 'F'}\n"
     ]
    }
   ],
   "source": [
    "#)10. not displaying id columns\n",
    "for doc in db.col.find({},{'_id':0}):\n",
    "    print(doc)"
   ]
  },
  {
   "cell_type": "code",
   "execution_count": 48,
   "id": "3c23d9f5-4bfb-4cac-8440-da2fc66a2d0f",
   "metadata": {},
   "outputs": [
    {
     "name": "stdout",
     "output_type": "stream",
     "text": [
      "{'course': 'DE', 'year': 2023, 'marks': 87.5, 'student_address': 'trichy', 'gender': 'F'}\n",
      "{'course': 'DS', 'year': 2020, 'marks': 63, 'student_address': 'vellore', 'gender': 'M'}\n",
      "{'course': 'ML', 'year': 2021, 'marks': 69, 'student_address': 'nellai', 'gender': 'F'}\n",
      "{'course': 'DE', 'year': 2022, 'marks': 93, 'student_address': 'bangalore', 'gender': 'F'}\n",
      "{'course': 'AI', 'session': 'FN', 'year': 2024, 'marks': 94.9, 'student_address': 'salem', 'gender': 'M'}\n",
      "{'course': 'ML', 'session': 'AN', 'year': 2023, 'marks': 76.5, 'student_address': 'chennai', 'gender': 'F'}\n",
      "{'course': 'DS', 'session': 'AN', 'year': 2022, 'marks': 83.2, 'student_address': 'erode', 'gender': 'M'}\n",
      "{'course': 'DE', 'session': 'AN', 'year': 2024, 'marks': 72.4, 'student_address': 'coimbatore', 'gender': 'F'}\n",
      "{'course': 'DE', 'session': 'FN', 'year': 2023, 'marks': 90.1, 'student_address': 'coimbatore', 'gender': 'M'}\n",
      "{'course': 'ML', 'session': 'FN', 'year': 2022, 'marks': 71.2, 'student_address': 'salem', 'gender': 'F'}\n",
      "{'course': 'ML', 'session': 'AN', 'year': 2024, 'marks': 87.6, 'student_address': 'erode', 'gender': 'M'}\n",
      "{'course': 'DS', 'session': 'FN', 'year': 2023, 'marks': 67.9, 'student_address': 'ooty', 'gender': 'F'}\n",
      "{'course': 'AI', 'session': 'AN', 'year': 2022, 'marks': 95.8, 'student_address': 'ooty', 'gender': 'M'}\n",
      "{'course': 'ML', 'session': 'FN', 'year': 2023, 'marks': 81.2, 'student_address': 'chennai', 'gender': 'F'}\n"
     ]
    }
   ],
   "source": [
    "#) 11. removing two column data\n",
    "for doc in db.col.find({},{'_id':0,'student_name':0}):\n",
    "    print(doc)"
   ]
  },
  {
   "cell_type": "code",
   "execution_count": 50,
   "id": "2290b6e3-ea73-4a92-a7a8-c73bb6b76d0f",
   "metadata": {},
   "outputs": [
    {
     "name": "stdout",
     "output_type": "stream",
     "text": [
      "{'year': 2023, 'marks': 87.5, 'student_address': 'trichy', 'gender': 'F'}\n",
      "{'year': 2020, 'marks': 63, 'student_address': 'vellore', 'gender': 'M'}\n",
      "{'year': 2021, 'marks': 69, 'student_address': 'nellai', 'gender': 'F'}\n",
      "{'year': 2022, 'marks': 93, 'student_address': 'bangalore', 'gender': 'F'}\n",
      "{'session': 'FN', 'year': 2024, 'marks': 94.9, 'student_address': 'salem', 'gender': 'M'}\n",
      "{'session': 'AN', 'year': 2023, 'marks': 76.5, 'student_address': 'chennai', 'gender': 'F'}\n",
      "{'session': 'AN', 'year': 2022, 'marks': 83.2, 'student_address': 'erode', 'gender': 'M'}\n",
      "{'session': 'AN', 'year': 2024, 'marks': 72.4, 'student_address': 'coimbatore', 'gender': 'F'}\n",
      "{'session': 'FN', 'year': 2023, 'marks': 90.1, 'student_address': 'coimbatore', 'gender': 'M'}\n",
      "{'session': 'FN', 'year': 2022, 'marks': 71.2, 'student_address': 'salem', 'gender': 'F'}\n",
      "{'session': 'AN', 'year': 2024, 'marks': 87.6, 'student_address': 'erode', 'gender': 'M'}\n",
      "{'session': 'FN', 'year': 2023, 'marks': 67.9, 'student_address': 'ooty', 'gender': 'F'}\n",
      "{'session': 'AN', 'year': 2022, 'marks': 95.8, 'student_address': 'ooty', 'gender': 'M'}\n",
      "{'session': 'FN', 'year': 2023, 'marks': 81.2, 'student_address': 'chennai', 'gender': 'F'}\n"
     ]
    }
   ],
   "source": [
    "#) 11. removing three column data\n",
    "for doc in db.col.find({},{'_id':0,'student_name':0,'course':0}):\n",
    "    print(doc)"
   ]
  },
  {
   "cell_type": "code",
   "execution_count": 52,
   "id": "aba7a68c-53cf-4dbd-82ad-692c33294cf8",
   "metadata": {},
   "outputs": [
    {
     "name": "stdout",
     "output_type": "stream",
     "text": [
      "{'marks': 87.5, 'student_address': 'trichy'}\n",
      "{'marks': 63, 'student_address': 'vellore'}\n",
      "{'marks': 69, 'student_address': 'nellai'}\n",
      "{'marks': 93, 'student_address': 'bangalore'}\n",
      "{'marks': 94.9, 'student_address': 'salem'}\n",
      "{'marks': 76.5, 'student_address': 'chennai'}\n",
      "{'marks': 83.2, 'student_address': 'erode'}\n",
      "{'marks': 72.4, 'student_address': 'coimbatore'}\n",
      "{'marks': 90.1, 'student_address': 'coimbatore'}\n",
      "{'marks': 71.2, 'student_address': 'salem'}\n",
      "{'marks': 87.6, 'student_address': 'erode'}\n",
      "{'marks': 67.9, 'student_address': 'ooty'}\n",
      "{'marks': 95.8, 'student_address': 'ooty'}\n",
      "{'marks': 81.2, 'student_address': 'chennai'}\n"
     ]
    }
   ],
   "source": [
    "#) 13. displaying only 2 columns data\n",
    "for doc in db.col.find({},{'_id':0,'marks':1,'student_address':1}):\n",
    "    print(doc)"
   ]
  },
  {
   "cell_type": "code",
   "execution_count": 53,
   "id": "18110110-f6ba-475f-a401-a0f55c51721d",
   "metadata": {},
   "outputs": [
    {
     "name": "stdout",
     "output_type": "stream",
     "text": [
      "{'student_name': 'Wyatt', 'session': 'FN', 'year': 2024}\n"
     ]
    }
   ],
   "source": [
    "#) 14.displaying particular row and particular coloumn data\n",
    "for doc in db.col.find({'session': 'FN','year': 2024},{'student_name':1,'session':1,'year':1,'_id':0}):\n",
    "    print(doc)"
   ]
  },
  {
   "cell_type": "code",
   "execution_count": 54,
   "id": "6ede0259-ccb8-4c0d-a3c1-68ad7acb9268",
   "metadata": {},
   "outputs": [
    {
     "name": "stdout",
     "output_type": "stream",
     "text": [
      "{'student_name': 'Violet', 'student_address': 'ooty'}\n",
      "{'student_name': 'Theodore', 'student_address': 'ooty'}\n"
     ]
    }
   ],
   "source": [
    "#) 14.displaying particular row and particular coloumn data\n",
    "for doc in db.col.find({'student_address':'ooty'},{'student_name':1,'student_address':'ooty','_id':0}):\n",
    "    print(doc)"
   ]
  },
  {
   "cell_type": "code",
   "execution_count": 6,
   "id": "bd7628a3-46ea-4d6a-9848-9db65f4d91b9",
   "metadata": {},
   "outputs": [
    {
     "name": "stdout",
     "output_type": "stream",
     "text": [
      "{'student_name': 'Devin', 'marks': 63, 'student_address': 'vellore'}\n"
     ]
    }
   ],
   "source": [
    "#) 14.displaying particular row and particular coloumn data\n",
    "for doc in db.col.find({'marks': 63,'student_address': 'vellore'},{'student_name':1,'marks': 1,'student_address': 1,'_id':0}):\n",
    "    print(doc)"
   ]
  },
  {
   "cell_type": "code",
   "execution_count": 7,
   "id": "4a74b67e-b7f1-4297-9165-d0ebdd008a17",
   "metadata": {},
   "outputs": [
    {
     "name": "stdout",
     "output_type": "stream",
     "text": [
      "{'student_name': 'Heath', 'session': 'AN', 'year': 2022}\n",
      "{'student_name': 'Theodore', 'session': 'AN', 'year': 2022}\n"
     ]
    }
   ],
   "source": [
    "#) 14.displaying particular row and particular coloumn data\n",
    "for doc in db.col.find({'session': 'AN','year': 2022},{'student_name':1,'session': 1,'year':1,'_id':0}):\n",
    "    print(doc)"
   ]
  },
  {
   "cell_type": "code",
   "execution_count": 11,
   "id": "e3b1f9af-431d-4bfc-b5b0-ae78631d4ccf",
   "metadata": {},
   "outputs": [
    {
     "name": "stdout",
     "output_type": "stream",
     "text": [
      "{'student_name': 'Juniper', 'course': 'DE', 'year': 2023, 'gender': 'F'}\n",
      "{'student_name': 'Brooke', 'course': 'ML', 'year': 2021, 'gender': 'F'}\n",
      "{'student_name': 'Asher', 'course': 'DE', 'year': 2022, 'gender': 'F'}\n",
      "{'student_name': 'Estelle', 'course': 'ML', 'year': 2023, 'gender': 'F'}\n",
      "{'student_name': 'Imogene', 'course': 'DE', 'year': 2024, 'gender': 'F'}\n",
      "{'student_name': 'Penelope', 'course': 'ML', 'year': 2022, 'gender': 'F'}\n",
      "{'student_name': 'Violet', 'course': 'DS', 'year': 2023, 'gender': 'F'}\n",
      "{'student_name': 'Verity', 'course': 'ML', 'year': 2023, 'gender': 'F'}\n"
     ]
    }
   ],
   "source": [
    "#) 14.displaying particular row and particular coloumn data\n",
    "for doc in db.col.find({'gender': 'F'},{'student_name':1,'course': 1,'year':1,'gender': 1,'_id':0}):\n",
    "    print(doc)"
   ]
  },
  {
   "cell_type": "code",
   "execution_count": 10,
   "id": "04f3b44c-6181-4cf4-bc1c-3a08867a5e51",
   "metadata": {},
   "outputs": [
    {
     "name": "stdout",
     "output_type": "stream",
     "text": [
      "{'student_name': 'Devin', 'student_address': 'vellore', 'gender': 'M'}\n",
      "{'student_name': 'Wyatt', 'student_address': 'salem', 'gender': 'M'}\n",
      "{'student_name': 'Heath', 'student_address': 'erode', 'gender': 'M'}\n",
      "{'student_name': 'Archer', 'student_address': 'coimbatore', 'gender': 'M'}\n",
      "{'student_name': 'Henry', 'student_address': 'erode', 'gender': 'M'}\n",
      "{'student_name': 'Theodore', 'student_address': 'ooty', 'gender': 'M'}\n"
     ]
    }
   ],
   "source": [
    "#) 14.displaying particular row and particular coloumn data\n",
    "for doc in db.col.find({'gender': 'M'},{'student_name':1,'gender': 1,'student_address':1,'_id':0}):\n",
    "    print(doc)"
   ]
  },
  {
   "cell_type": "code",
   "execution_count": 13,
   "id": "512e0b3e-3637-4e17-97f9-de60ae431644",
   "metadata": {},
   "outputs": [
    {
     "name": "stdout",
     "output_type": "stream",
     "text": [
      "{'student_name': 'Archer', 'course': 'DE', 'session': 'FN', 'year': 2023, 'marks': 90.1, 'student_address': 'coimbatore', 'gender': 'M'}\n",
      "{'student_name': 'Violet', 'course': 'DS', 'session': 'FN', 'year': 2023, 'marks': 67.9, 'student_address': 'ooty', 'gender': 'F'}\n",
      "{'student_name': 'Verity', 'course': 'ML', 'session': 'FN', 'year': 2023, 'marks': 81.2, 'student_address': 'chennai', 'gender': 'F'}\n"
     ]
    }
   ],
   "source": [
    "#) 15.displaying particular 2 column data using $and\n",
    "condition = {'$and':[{'session': 'FN'},{'year': 2023}]}\n",
    "for doc in db.col.find(condition,{'_id':0}):\n",
    "    print(doc)"
   ]
  },
  {
   "cell_type": "code",
   "execution_count": 14,
   "id": "fa157481-7488-4ae0-a9e4-5697e2c84a43",
   "metadata": {},
   "outputs": [
    {
     "name": "stdout",
     "output_type": "stream",
     "text": [
      "{'student_name': 'Heath', 'course': 'DS', 'session': 'AN', 'year': 2022, 'marks': 83.2, 'student_address': 'erode', 'gender': 'M'}\n",
      "{'student_name': 'Henry', 'course': 'ML', 'session': 'AN', 'year': 2024, 'marks': 87.6, 'student_address': 'erode', 'gender': 'M'}\n"
     ]
    }
   ],
   "source": [
    "#) 15.displaying particular 2 column data using $and\n",
    "condition = {'$and':[{'student_address': 'erode'},{'gender': 'M'}]}\n",
    "for doc in db.col.find(condition,{'_id':0}):\n",
    "    print(doc)"
   ]
  },
  {
   "cell_type": "code",
   "execution_count": 15,
   "id": "25ff09eb-772a-4da5-8f95-377bf789f2b3",
   "metadata": {},
   "outputs": [
    {
     "name": "stdout",
     "output_type": "stream",
     "text": [
      "{'student_name': 'Henry', 'course': 'ML', 'session': 'AN', 'year': 2024, 'marks': 87.6, 'student_address': 'erode', 'gender': 'M'}\n"
     ]
    }
   ],
   "source": [
    "#) 15.displaying particular 2 column data using $and\n",
    "condition = {'$and':[{'year': 2024},{'student_address': 'erode'}]}\n",
    "for doc in db.col.find(condition,{'_id':0}):\n",
    "    print(doc)"
   ]
  },
  {
   "cell_type": "code",
   "execution_count": 17,
   "id": "bfb1d1a1-f720-4bb2-b340-a73c6a14c21c",
   "metadata": {},
   "outputs": [
    {
     "name": "stdout",
     "output_type": "stream",
     "text": [
      "{'student_name': 'Devin', 'course': 'DS', 'year': 2020, 'marks': 63, 'student_address': 'vellore', 'gender': 'M'}\n",
      "{'student_name': 'Brooke', 'course': 'ML', 'year': 2021, 'marks': 69, 'student_address': 'nellai', 'gender': 'F'}\n",
      "{'student_name': 'Estelle', 'course': 'ML', 'session': 'AN', 'year': 2023, 'marks': 76.5, 'student_address': 'chennai', 'gender': 'F'}\n",
      "{'student_name': 'Heath', 'course': 'DS', 'session': 'AN', 'year': 2022, 'marks': 83.2, 'student_address': 'erode', 'gender': 'M'}\n",
      "{'student_name': 'Penelope', 'course': 'ML', 'session': 'FN', 'year': 2022, 'marks': 71.2, 'student_address': 'salem', 'gender': 'F'}\n",
      "{'student_name': 'Henry', 'course': 'ML', 'session': 'AN', 'year': 2024, 'marks': 87.6, 'student_address': 'erode', 'gender': 'M'}\n",
      "{'student_name': 'Violet', 'course': 'DS', 'session': 'FN', 'year': 2023, 'marks': 67.9, 'student_address': 'ooty', 'gender': 'F'}\n",
      "{'student_name': 'Verity', 'course': 'ML', 'session': 'FN', 'year': 2023, 'marks': 81.2, 'student_address': 'chennai', 'gender': 'F'}\n"
     ]
    }
   ],
   "source": [
    "#) 16. displaying two particular data from one column using $or\n",
    "condition = {'$or':[{'course': 'DS'},{'course': 'ML'}]}\n",
    "for doc in db.col.find(condition,{'_id':0}):\n",
    "    print(doc)"
   ]
  },
  {
   "cell_type": "code",
   "execution_count": 18,
   "id": "5a8a3f4f-482d-4e0e-9c70-ab4e2055b8b5",
   "metadata": {},
   "outputs": [
    {
     "name": "stdout",
     "output_type": "stream",
     "text": [
      "{'student_name': 'Devin', 'course': 'DS', 'year': 2020, 'marks': 63, 'student_address': 'vellore', 'gender': 'M'}\n",
      "{'student_name': 'Brooke', 'course': 'ML', 'year': 2021, 'marks': 69, 'student_address': 'nellai', 'gender': 'F'}\n"
     ]
    }
   ],
   "source": [
    "#) 16. displaying two particular data from one column using $or\n",
    "condition = {'$or':[{'year': 2020},{'year': 2021}]}\n",
    "for doc in db.col.find(condition,{'_id':0}):\n",
    "    print(doc)"
   ]
  },
  {
   "cell_type": "code",
   "execution_count": 19,
   "id": "2bed6439-6e19-46c8-b4ad-3e34787ca1eb",
   "metadata": {},
   "outputs": [
    {
     "name": "stdout",
     "output_type": "stream",
     "text": [
      "{'student_name': 'Estelle', 'course': 'ML', 'session': 'AN', 'year': 2023, 'marks': 76.5, 'student_address': 'chennai', 'gender': 'F'}\n",
      "{'student_name': 'Violet', 'course': 'DS', 'session': 'FN', 'year': 2023, 'marks': 67.9, 'student_address': 'ooty', 'gender': 'F'}\n",
      "{'student_name': 'Theodore', 'course': 'AI', 'session': 'AN', 'year': 2022, 'marks': 95.8, 'student_address': 'ooty', 'gender': 'M'}\n",
      "{'student_name': 'Verity', 'course': 'ML', 'session': 'FN', 'year': 2023, 'marks': 81.2, 'student_address': 'chennai', 'gender': 'F'}\n"
     ]
    }
   ],
   "source": [
    "#) 16. displaying two particular data from one column using $or\n",
    "condition = {'$or':[{'student_address': 'chennai'},{'student_address': 'ooty'}]}\n",
    "for doc in db.col.find(condition,{'_id':0}):\n",
    "    print(doc)"
   ]
  },
  {
   "cell_type": "code",
   "execution_count": 28,
   "id": "6c279fd7-5351-4b63-97fa-35131aa5bfc9",
   "metadata": {},
   "outputs": [
    {
     "name": "stdout",
     "output_type": "stream",
     "text": [
      "{'student_name': 'Asher', 'course': 'DE', 'year': 2022, 'marks': 93, 'student_address': 'bangalore', 'gender': 'F'}\n",
      "{'student_name': 'Wyatt', 'course': 'AI', 'session': 'FN', 'year': 2024, 'marks': 94.9, 'student_address': 'salem', 'gender': 'M'}\n",
      "{'student_name': 'Archer', 'course': 'DE', 'session': 'FN', 'year': 2023, 'marks': 90.1, 'student_address': 'coimbatore', 'gender': 'M'}\n",
      "{'student_name': 'Theodore', 'course': 'AI', 'session': 'AN', 'year': 2022, 'marks': 95.8, 'student_address': 'ooty', 'gender': 'M'}\n"
     ]
    }
   ],
   "source": [
    "#) 18. displaying particular data using $gte(greater than or equal to)\n",
    "condition = {'marks':{'$gte':90.1}}\n",
    "for doc in db.col.find(condition,{'_id':0}):\n",
    "    print(doc)"
   ]
  },
  {
   "cell_type": "code",
   "execution_count": 30,
   "id": "c92f55cd-fa7f-4a43-9328-c3f4b5f87d4b",
   "metadata": {},
   "outputs": [
    {
     "name": "stdout",
     "output_type": "stream",
     "text": [
      "{'student_name': 'Asher', 'course': 'DE', 'year': 2022, 'marks': 93, 'student_address': 'bangalore', 'gender': 'F'}\n",
      "{'student_name': 'Wyatt', 'course': 'AI', 'session': 'FN', 'year': 2024, 'marks': 94.9, 'student_address': 'salem', 'gender': 'M'}\n",
      "{'student_name': 'Archer', 'course': 'DE', 'session': 'FN', 'year': 2023, 'marks': 90.1, 'student_address': 'coimbatore', 'gender': 'M'}\n",
      "{'student_name': 'Theodore', 'course': 'AI', 'session': 'AN', 'year': 2022, 'marks': 95.8, 'student_address': 'ooty', 'gender': 'M'}\n"
     ]
    }
   ],
   "source": [
    "#) 18. displaying particular data using $gte(greater than or equal to)\n",
    "condition = {'marks':{'$gte':90.1}}\n",
    "for doc in db.col.find(condition,{'_id':0}):\n",
    "    print(doc)"
   ]
  },
  {
   "cell_type": "code",
   "execution_count": 34,
   "id": "61ac5bc4-8091-4310-a5f2-9871981dddc9",
   "metadata": {},
   "outputs": [
    {
     "name": "stdout",
     "output_type": "stream",
     "text": [
      "{'student_name': 'Violet', 'course': 'DS', 'session': 'FN', 'year': 2023, 'marks': 67.9, 'student_address': 'ooty', 'gender': 'F'}\n",
      "{'student_name': 'Theodore', 'course': 'AI', 'session': 'AN', 'year': 2022, 'marks': 95.8, 'student_address': 'ooty', 'gender': 'M'}\n"
     ]
    }
   ],
   "source": [
    "#) 18. displaying particular data using $gte(greater than or equal to)\n",
    "condition = {'year':{'$gte':2021},'student_address': 'ooty'}\n",
    "for doc in db.col.find(condition,{'_id':0}):\n",
    "    print(doc)"
   ]
  },
  {
   "cell_type": "code",
   "execution_count": 37,
   "id": "96b15718-4e12-433e-bd48-d7485c4a001e",
   "metadata": {},
   "outputs": [
    {
     "name": "stdout",
     "output_type": "stream",
     "text": [
      "{'student_name': 'Wyatt', 'course': 'AI', 'session': 'FN', 'year': 2024, 'marks': 94.9, 'student_address': 'salem', 'gender': 'M'}\n",
      "{'student_name': 'Heath', 'course': 'DS', 'session': 'AN', 'year': 2022, 'marks': 83.2, 'student_address': 'erode', 'gender': 'M'}\n",
      "{'student_name': 'Archer', 'course': 'DE', 'session': 'FN', 'year': 2023, 'marks': 90.1, 'student_address': 'coimbatore', 'gender': 'M'}\n",
      "{'student_name': 'Henry', 'course': 'ML', 'session': 'AN', 'year': 2024, 'marks': 87.6, 'student_address': 'erode', 'gender': 'M'}\n",
      "{'student_name': 'Theodore', 'course': 'AI', 'session': 'AN', 'year': 2022, 'marks': 95.8, 'student_address': 'ooty', 'gender': 'M'}\n"
     ]
    }
   ],
   "source": [
    "#) 19. displaying particular data using $gt(greater than)\n",
    "condition = {'marks':{'$gt':67.9},'gender': 'M'}\n",
    "for doc in db.col.find(condition,{'_id':0,}):\n",
    "    print(doc)"
   ]
  },
  {
   "cell_type": "code",
   "execution_count": 40,
   "id": "5e08229a-35e6-4f10-829a-9d4c383ddbca",
   "metadata": {},
   "outputs": [
    {
     "name": "stdout",
     "output_type": "stream",
     "text": [
      "{'student_name': 'Juniper', 'course': 'DE', 'year': 2023, 'marks': 87.5, 'student_address': 'trichy', 'gender': 'F'}\n",
      "{'student_name': 'Brooke', 'course': 'ML', 'year': 2021, 'marks': 69, 'student_address': 'nellai', 'gender': 'F'}\n",
      "{'student_name': 'Asher', 'course': 'DE', 'year': 2022, 'marks': 93, 'student_address': 'bangalore', 'gender': 'F'}\n",
      "{'student_name': 'Wyatt', 'course': 'AI', 'session': 'FN', 'year': 2024, 'marks': 94.9, 'student_address': 'salem', 'gender': 'M'}\n",
      "{'student_name': 'Estelle', 'course': 'ML', 'session': 'AN', 'year': 2023, 'marks': 76.5, 'student_address': 'chennai', 'gender': 'F'}\n",
      "{'student_name': 'Heath', 'course': 'DS', 'session': 'AN', 'year': 2022, 'marks': 83.2, 'student_address': 'erode', 'gender': 'M'}\n",
      "{'student_name': 'Imogene', 'course': 'DE', 'session': 'AN', 'year': 2024, 'marks': 72.4, 'student_address': 'coimbatore', 'gender': 'F'}\n",
      "{'student_name': 'Archer', 'course': 'DE', 'session': 'FN', 'year': 2023, 'marks': 90.1, 'student_address': 'coimbatore', 'gender': 'M'}\n",
      "{'student_name': 'Penelope', 'course': 'ML', 'session': 'FN', 'year': 2022, 'marks': 71.2, 'student_address': 'salem', 'gender': 'F'}\n",
      "{'student_name': 'Henry', 'course': 'ML', 'session': 'AN', 'year': 2024, 'marks': 87.6, 'student_address': 'erode', 'gender': 'M'}\n",
      "{'student_name': 'Theodore', 'course': 'AI', 'session': 'AN', 'year': 2022, 'marks': 95.8, 'student_address': 'ooty', 'gender': 'M'}\n",
      "{'student_name': 'Verity', 'course': 'ML', 'session': 'FN', 'year': 2023, 'marks': 81.2, 'student_address': 'chennai', 'gender': 'F'}\n"
     ]
    }
   ],
   "source": [
    "#) 19. displaying particular data using $gt(greater than)\n",
    "condition = {'marks':{'$gt':67.9}}\n",
    "for doc in db.col.find(condition,{'_id':0}):\n",
    "    print(doc)"
   ]
  },
  {
   "cell_type": "code",
   "execution_count": 42,
   "id": "e26f9fa9-86b0-459e-9b87-ddd1efb99e9a",
   "metadata": {},
   "outputs": [
    {
     "name": "stdout",
     "output_type": "stream",
     "text": [
      "{'student_name': 'Wyatt', 'course': 'AI', 'session': 'FN', 'year': 2024, 'marks': 94.9, 'student_address': 'salem', 'gender': 'M'}\n",
      "{'student_name': 'Theodore', 'course': 'AI', 'session': 'AN', 'year': 2022, 'marks': 95.8, 'student_address': 'ooty', 'gender': 'M'}\n"
     ]
    }
   ],
   "source": [
    "#) 19. displaying particular data using $gt(greater than)\n",
    "condition = {'marks':{'$gt':67.9},'course': 'AI'}\n",
    "for doc in db.col.find(condition,{'_id':0}):\n",
    "    print(doc)"
   ]
  },
  {
   "cell_type": "code",
   "execution_count": 44,
   "id": "6d06e52f-e355-421b-a275-bc4cbc7b6341",
   "metadata": {},
   "outputs": [
    {
     "name": "stdout",
     "output_type": "stream",
     "text": [
      "{'student_name': 'Devin', 'course': 'DS', 'year': 2020, 'marks': 63, 'student_address': 'vellore', 'gender': 'M'}\n"
     ]
    }
   ],
   "source": [
    "#) 20. displaying particular data using $lte(less than or equal to)\n",
    "condition = {'marks':{'$lte':72.4},'gender': 'M'}\n",
    "for doc in db.col.find(condition,{'_id':0,'session':0}):\n",
    "    print(doc)"
   ]
  },
  {
   "cell_type": "code",
   "execution_count": 47,
   "id": "9fdec751-1fd8-4e04-aab1-397c94a42a21",
   "metadata": {},
   "outputs": [
    {
     "name": "stdout",
     "output_type": "stream",
     "text": [
      "{'student_name': 'Brooke'}\n",
      "{'student_name': 'Asher'}\n",
      "{'student_name': 'Penelope'}\n"
     ]
    }
   ],
   "source": [
    "#) 20. displaying particular data using $lte(less than or equal to)\n",
    "condition = {'year':{'$lte': 2022},'gender': 'F'}\n",
    "for doc in db.col.find(condition,{'_id':0,'student_name':1}):\n",
    "    print(doc)"
   ]
  },
  {
   "cell_type": "code",
   "execution_count": 50,
   "id": "1c8e500e-2185-49c5-88bf-f9b35ff35431",
   "metadata": {},
   "outputs": [
    {
     "name": "stdout",
     "output_type": "stream",
     "text": [
      "{'student_name': 'Estelle', 'course': 'ML', 'session': 'AN', 'year': 2023, 'marks': 76.5, 'student_address': 'chennai', 'gender': 'F'}\n",
      "{'student_name': 'Heath', 'course': 'DS', 'session': 'AN', 'year': 2022, 'marks': 83.2, 'student_address': 'erode', 'gender': 'M'}\n",
      "{'student_name': 'Theodore', 'course': 'AI', 'session': 'AN', 'year': 2022, 'marks': 95.8, 'student_address': 'ooty', 'gender': 'M'}\n"
     ]
    }
   ],
   "source": [
    "#) 20. displaying particular data using $lte(less than or equal to)\n",
    "condition = {'year':{'$lte': 2023},'session': 'AN'}\n",
    "for doc in db.col.find(condition,{'_id':0}):\n",
    "    print(doc)"
   ]
  },
  {
   "cell_type": "code",
   "execution_count": 52,
   "id": "71aa09e3-3a77-4c32-b067-670d713d8d29",
   "metadata": {},
   "outputs": [
    {
     "name": "stdout",
     "output_type": "stream",
     "text": [
      "{'student_name': 'Juniper', 'course': 'DE', 'year': 2023, 'marks': 87.5, 'student_address': 'trichy', 'gender': 'F'}\n",
      "{'student_name': 'Devin', 'course': 'DS', 'year': 2020, 'marks': 63, 'student_address': 'vellore', 'gender': 'M'}\n",
      "{'student_name': 'Brooke', 'course': 'ML', 'year': 2021, 'marks': 69, 'student_address': 'nellai', 'gender': 'F'}\n",
      "{'student_name': 'Asher', 'course': 'DE', 'year': 2022, 'marks': 93, 'student_address': 'bangalore', 'gender': 'F'}\n",
      "{'student_name': 'Wyatt', 'course': 'AI', 'session': 'FN', 'year': 2024, 'marks': 94.9, 'student_address': 'salem', 'gender': 'M'}\n",
      "{'student_name': 'Archer', 'course': 'DE', 'session': 'FN', 'year': 2023, 'marks': 90.1, 'student_address': 'coimbatore', 'gender': 'M'}\n",
      "{'student_name': 'Penelope', 'course': 'ML', 'session': 'FN', 'year': 2022, 'marks': 71.2, 'student_address': 'salem', 'gender': 'F'}\n",
      "{'student_name': 'Violet', 'course': 'DS', 'session': 'FN', 'year': 2023, 'marks': 67.9, 'student_address': 'ooty', 'gender': 'F'}\n",
      "{'student_name': 'Verity', 'course': 'ML', 'session': 'FN', 'year': 2023, 'marks': 81.2, 'student_address': 'chennai', 'gender': 'F'}\n"
     ]
    }
   ],
   "source": [
    "#) 21. displaying particular data using $ne(not equal to)\n",
    "condition = {'session':{'$ne':'AN'}}\n",
    "for doc in db.col.find(condition,{'_id':0}):\n",
    "    print(doc)"
   ]
  },
  {
   "cell_type": "code",
   "execution_count": 53,
   "id": "a1fdbed7-a82e-4776-b68a-5249fe0014c5",
   "metadata": {},
   "outputs": [
    {
     "name": "stdout",
     "output_type": "stream",
     "text": [
      "{'student_name': 'Asher', 'course': 'DE', 'year': 2022, 'marks': 93, 'student_address': 'bangalore', 'gender': 'F'}\n",
      "{'student_name': 'Penelope', 'course': 'ML', 'session': 'FN', 'year': 2022, 'marks': 71.2, 'student_address': 'salem', 'gender': 'F'}\n"
     ]
    }
   ],
   "source": [
    "#) 21. displaying particular data using $ne(not equal to)\n",
    "condition = {'session':{'$ne':'AN'},'year': 2022}\n",
    "for doc in db.col.find(condition,{'_id':0}):\n",
    "    print(doc)"
   ]
  },
  {
   "cell_type": "code",
   "execution_count": 55,
   "id": "68fdd03d-7f92-4508-a109-ad8bfe47c3af",
   "metadata": {},
   "outputs": [
    {
     "name": "stdout",
     "output_type": "stream",
     "text": [
      "{'student_name': 'Asher', 'course': 'DE', 'year': 2022, 'marks': 93, 'student_address': 'bangalore', 'gender': 'F'}\n",
      "{'student_name': 'Heath', 'course': 'DS', 'session': 'AN', 'year': 2022, 'marks': 83.2, 'student_address': 'erode', 'gender': 'M'}\n",
      "{'student_name': 'Penelope', 'course': 'ML', 'session': 'FN', 'year': 2022, 'marks': 71.2, 'student_address': 'salem', 'gender': 'F'}\n"
     ]
    }
   ],
   "source": [
    "#) 21. displaying particular data using $ne(not equal to)\n",
    "condition = {'course':{'$ne':'AI'},'year': 2022}\n",
    "for doc in db.col.find(condition,{'_id':0}):\n",
    "    print(doc)"
   ]
  },
  {
   "cell_type": "code",
   "execution_count": 58,
   "id": "1fa7ba76-8b77-459c-99ad-3914dc8dbad3",
   "metadata": {},
   "outputs": [
    {
     "name": "stdout",
     "output_type": "stream",
     "text": [
      "{'student_name': 'Juniper', 'course': 'DE', 'year': 2023, 'marks': 87.5, 'student_address': 'trichy', 'gender': 'F'}\n",
      "{'student_name': 'Devin', 'course': 'DS', 'year': 2020, 'marks': 63, 'student_address': 'vellore', 'gender': 'M'}\n",
      "{'student_name': 'Brooke', 'course': 'ML', 'year': 2021, 'marks': 69, 'student_address': 'nellai', 'gender': 'F'}\n",
      "{'student_name': 'Asher', 'course': 'DE', 'year': 2022, 'marks': 93, 'student_address': 'bangalore', 'gender': 'F'}\n",
      "{'student_name': 'Wyatt', 'course': 'AI', 'session': 'FN', 'year': 2024, 'marks': 94.9, 'student_address': 'salem', 'gender': 'M'}\n",
      "{'student_name': 'Estelle', 'course': 'ML', 'session': 'AN', 'year': 2023, 'marks': 76.5, 'student_address': 'chennai', 'gender': 'F'}\n",
      "{'student_name': 'Imogene', 'course': 'DE', 'session': 'AN', 'year': 2024, 'marks': 72.4, 'student_address': 'coimbatore', 'gender': 'F'}\n",
      "{'student_name': 'Archer', 'course': 'DE', 'session': 'FN', 'year': 2023, 'marks': 90.1, 'student_address': 'coimbatore', 'gender': 'M'}\n",
      "{'student_name': 'Penelope', 'course': 'ML', 'session': 'FN', 'year': 2022, 'marks': 71.2, 'student_address': 'salem', 'gender': 'F'}\n",
      "{'student_name': 'Henry', 'course': 'ML', 'session': 'AN', 'year': 2024, 'marks': 87.6, 'student_address': 'erode', 'gender': 'M'}\n",
      "{'student_name': 'Violet', 'course': 'DS', 'session': 'FN', 'year': 2023, 'marks': 67.9, 'student_address': 'ooty', 'gender': 'F'}\n",
      "{'student_name': 'Verity', 'course': 'ML', 'session': 'FN', 'year': 2023, 'marks': 81.2, 'student_address': 'chennai', 'gender': 'F'}\n"
     ]
    }
   ],
   "source": [
    "#) 22. displaying particular data using two conditions $or,$ne(not equal to)\n",
    "condition = {'$or':[{'year':{'$ne':2022}},{'gender': 'F'}]}\n",
    "for doc in db.col.find(condition,{'_id':0}):\n",
    "    print(doc)"
   ]
  },
  {
   "cell_type": "code",
   "execution_count": 61,
   "id": "fa1bf34d-445c-4c77-89c4-9bb0ce551a5e",
   "metadata": {},
   "outputs": [
    {
     "name": "stdout",
     "output_type": "stream",
     "text": [
      "{'student_name': 'Juniper', 'course': 'DE', 'year': 2023, 'marks': 87.5, 'student_address': 'trichy', 'gender': 'F'}\n",
      "{'student_name': 'Devin', 'course': 'DS', 'year': 2020, 'marks': 63, 'student_address': 'vellore', 'gender': 'M'}\n",
      "{'student_name': 'Brooke', 'course': 'ML', 'year': 2021, 'marks': 69, 'student_address': 'nellai', 'gender': 'F'}\n",
      "{'student_name': 'Wyatt', 'course': 'AI', 'session': 'FN', 'year': 2024, 'marks': 94.9, 'student_address': 'salem', 'gender': 'M'}\n",
      "{'student_name': 'Estelle', 'course': 'ML', 'session': 'AN', 'year': 2023, 'marks': 76.5, 'student_address': 'chennai', 'gender': 'F'}\n",
      "{'student_name': 'Imogene', 'course': 'DE', 'session': 'AN', 'year': 2024, 'marks': 72.4, 'student_address': 'coimbatore', 'gender': 'F'}\n",
      "{'student_name': 'Archer', 'course': 'DE', 'session': 'FN', 'year': 2023, 'marks': 90.1, 'student_address': 'coimbatore', 'gender': 'M'}\n",
      "{'student_name': 'Henry', 'course': 'ML', 'session': 'AN', 'year': 2024, 'marks': 87.6, 'student_address': 'erode', 'gender': 'M'}\n",
      "{'student_name': 'Violet', 'course': 'DS', 'session': 'FN', 'year': 2023, 'marks': 67.9, 'student_address': 'ooty', 'gender': 'F'}\n",
      "{'student_name': 'Verity', 'course': 'ML', 'session': 'FN', 'year': 2023, 'marks': 81.2, 'student_address': 'chennai', 'gender': 'F'}\n"
     ]
    }
   ],
   "source": [
    "#) 22. displaying particular data using two conditions $or,$ne(not equal to)\n",
    "condition = {'$or':[{'year':{'$ne':2022}},{'marks': 76.5}]}\n",
    "for doc in db.col.find(condition,{'_id':0}):\n",
    "    print(doc)"
   ]
  },
  {
   "cell_type": "code",
   "execution_count": 64,
   "id": "7a521d2e-89fd-4a4f-be10-a38cbb44aa19",
   "metadata": {},
   "outputs": [
    {
     "name": "stdout",
     "output_type": "stream",
     "text": [
      "{'student_name': 'Juniper', 'course': 'DE'}\n",
      "{'student_name': 'Devin', 'course': 'DS'}\n",
      "{'student_name': 'Brooke', 'course': 'AIML'}\n",
      "{'student_name': 'Asher', 'course': 'DE'}\n",
      "{'student_name': 'Wyatt', 'course': 'AI'}\n",
      "{'student_name': 'Estelle', 'course': 'AIML'}\n",
      "{'student_name': 'Heath', 'course': 'DS'}\n",
      "{'student_name': 'Imogene', 'course': 'DE'}\n",
      "{'student_name': 'Archer', 'course': 'DE'}\n",
      "{'student_name': 'Penelope', 'course': 'ML'}\n",
      "{'student_name': 'Henry', 'course': 'ML'}\n",
      "{'student_name': 'Violet', 'course': 'DS'}\n",
      "{'student_name': 'Theodore', 'course': 'AI'}\n",
      "{'student_name': 'Verity', 'course': 'ML'}\n"
     ]
    }
   ],
   "source": [
    "#) 23. replacing one row data with new value in one column\n",
    "old = {'course': 'ML'}\n",
    "new = {'$set':{'course':'AIML'}}\n",
    "\n",
    "db.col.update_one(old,new)\n",
    "for doc in db.col.find({},{'_id':0,'student_name':1,'course': 1}):\n",
    "    print(doc)"
   ]
  },
  {
   "cell_type": "code",
   "execution_count": 65,
   "id": "55eb44a6-5e4a-4ae7-9271-a9dfc83974dc",
   "metadata": {},
   "outputs": [
    {
     "name": "stdout",
     "output_type": "stream",
     "text": [
      "{'student_name': 'Juniper', 'year': 2023}\n",
      "{'student_name': 'Devin', 'year': 2018}\n",
      "{'student_name': 'Brooke', 'year': 2021}\n",
      "{'student_name': 'Asher', 'year': 2022}\n",
      "{'student_name': 'Wyatt', 'year': 2024}\n",
      "{'student_name': 'Estelle', 'year': 2023}\n",
      "{'student_name': 'Heath', 'year': 2022}\n",
      "{'student_name': 'Imogene', 'year': 2024}\n",
      "{'student_name': 'Archer', 'year': 2023}\n",
      "{'student_name': 'Penelope', 'year': 2022}\n",
      "{'student_name': 'Henry', 'year': 2024}\n",
      "{'student_name': 'Violet', 'year': 2023}\n",
      "{'student_name': 'Theodore', 'year': 2022}\n",
      "{'student_name': 'Verity', 'year': 2023}\n"
     ]
    }
   ],
   "source": [
    "#) 23. replacing one row data with new value in one column\n",
    "old = {'year': 2020}\n",
    "new = {'$set':{'year': 2018}}\n",
    "\n",
    "db.col.update_one(old,new)\n",
    "for doc in db.col.find({},{'_id':0,'student_name':1,'year': 1}):\n",
    "    print(doc)"
   ]
  },
  {
   "cell_type": "code",
   "execution_count": 67,
   "id": "9b895101-8983-4072-9a25-ea9e92da6b56",
   "metadata": {},
   "outputs": [
    {
     "name": "stdout",
     "output_type": "stream",
     "text": [
      "{'student_name': 'Juniper', 'student_address': 'trichy'}\n",
      "{'student_name': 'Devin', 'student_address': 'vellore'}\n",
      "{'student_name': 'Brooke', 'student_address': 'nellai'}\n",
      "{'student_name': 'Asher', 'student_address': 'bangalore'}\n",
      "{'student_name': 'Wyatt', 'student_address': 'salem'}\n",
      "{'student_name': 'Estelle', 'student_address': 'chennai'}\n",
      "{'student_name': 'Heath', 'student_address': 'erode'}\n",
      "{'student_name': 'Imogene', 'student_address': 'delhi'}\n",
      "{'student_name': 'Archer', 'student_address': 'delhi'}\n",
      "{'student_name': 'Penelope', 'student_address': 'salem'}\n",
      "{'student_name': 'Henry', 'student_address': 'erode'}\n",
      "{'student_name': 'Violet', 'student_address': 'ooty'}\n",
      "{'student_name': 'Theodore', 'student_address': 'ooty'}\n",
      "{'student_name': 'Verity', 'student_address': 'chennai'}\n"
     ]
    }
   ],
   "source": [
    "#) 23. replacing one row data with new value in one column\n",
    "old = {'student_address':'coimbatore'}\n",
    "new = {'$set':{'student_address': 'delhi'}}\n",
    "\n",
    "db.col.update_many(old,new)\n",
    "for doc in db.col.find({},{'_id':0,'student_name':1,'student_address':1}):\n",
    "    print(doc)"
   ]
  },
  {
   "cell_type": "code",
   "execution_count": 68,
   "id": "d49be328-9dcb-40a4-b07f-01c628859c63",
   "metadata": {},
   "outputs": [
    {
     "name": "stdout",
     "output_type": "stream",
     "text": [
      "{'student_name': 'Juniper', 'course': 'python'}\n",
      "{'student_name': 'Devin', 'course': 'DS'}\n",
      "{'student_name': 'Brooke', 'course': 'AIML'}\n",
      "{'student_name': 'Asher', 'course': 'python'}\n",
      "{'student_name': 'Wyatt', 'course': 'AI'}\n",
      "{'student_name': 'Estelle', 'course': 'AIML'}\n",
      "{'student_name': 'Heath', 'course': 'DS'}\n",
      "{'student_name': 'Imogene', 'course': 'python'}\n",
      "{'student_name': 'Archer', 'course': 'python'}\n",
      "{'student_name': 'Penelope', 'course': 'ML'}\n",
      "{'student_name': 'Henry', 'course': 'ML'}\n",
      "{'student_name': 'Violet', 'course': 'DS'}\n",
      "{'student_name': 'Theodore', 'course': 'AI'}\n",
      "{'student_name': 'Verity', 'course': 'ML'}\n"
     ]
    }
   ],
   "source": [
    "#) 23. replacing one row data with new value in one column\n",
    "old = {'course': 'DE'}\n",
    "new = {'$set':{'course': 'python'}}\n",
    "\n",
    "db.col.update_many(old,new)\n",
    "for doc in db.col.find({},{'_id':0,'student_name':1,'course':1}):\n",
    "    print(doc)"
   ]
  },
  {
   "cell_type": "code",
   "execution_count": 72,
   "id": "87d97c2b-ded9-4cc4-8f6c-a5114c19e0dd",
   "metadata": {},
   "outputs": [
    {
     "name": "stdout",
     "output_type": "stream",
     "text": [
      "{'student_name': 'Juniper', 'course': 'python'}\n",
      "{'student_name': 'Devin', 'course': 'DS', 'year': 2018}\n",
      "{'student_name': 'Brooke', 'course': 'AIML', 'year': 2021}\n",
      "{'student_name': 'Asher', 'course': 'python'}\n",
      "{'student_name': 'Wyatt', 'course': 'AI', 'year': 2024}\n",
      "{'student_name': 'Estelle', 'course': 'AIML', 'year': 2023}\n",
      "{'student_name': 'Heath', 'course': 'DS', 'year': 2022}\n",
      "{'student_name': 'Imogene', 'course': 'python'}\n",
      "{'student_name': 'Archer', 'course': 'python'}\n",
      "{'student_name': 'Penelope', 'course': 'ML', 'year': 2022}\n",
      "{'student_name': 'Henry', 'course': 'ML', 'year': 2024}\n",
      "{'student_name': 'Violet', 'course': 'DS', 'year': 2023}\n",
      "{'student_name': 'Theodore', 'course': 'AI', 'year': 2022}\n",
      "{'student_name': 'Verity', 'course': 'ML', 'year': 2023}\n"
     ]
    }
   ],
   "source": [
    "#) 25. not displaying particular row data from two columns\n",
    "old = {'course': 'python'}\n",
    "new = {'$unset':{ 'year': 2023}}\n",
    "\n",
    "db.col.update_many(old,new)\n",
    "for doc in db.col.find({},{'_id':0,'student_name':1,'course':1,'year':1}):\n",
    "    print(doc)"
   ]
  },
  {
   "cell_type": "code",
   "execution_count": 74,
   "id": "b236b002-24b3-411b-97ed-9c9397cedaf1",
   "metadata": {},
   "outputs": [
    {
     "name": "stdout",
     "output_type": "stream",
     "text": [
      "{'student_name': 'Juniper', 'student_address': 'trichy'}\n",
      "{'student_name': 'Devin', 'year': 2018, 'student_address': 'vellore'}\n",
      "{'student_name': 'Brooke', 'year': 2021, 'student_address': 'nellai'}\n",
      "{'student_name': 'Asher', 'student_address': 'bangalore'}\n",
      "{'student_name': 'Wyatt', 'student_address': 'salem'}\n",
      "{'student_name': 'Estelle', 'year': 2023, 'student_address': 'chennai'}\n",
      "{'student_name': 'Heath', 'year': 2022, 'student_address': 'erode'}\n",
      "{'student_name': 'Imogene', 'student_address': 'delhi'}\n",
      "{'student_name': 'Archer', 'student_address': 'delhi'}\n",
      "{'student_name': 'Penelope', 'student_address': 'salem'}\n",
      "{'student_name': 'Henry', 'year': 2024, 'student_address': 'erode'}\n",
      "{'student_name': 'Violet', 'year': 2023, 'student_address': 'ooty'}\n",
      "{'student_name': 'Theodore', 'year': 2022, 'student_address': 'ooty'}\n",
      "{'student_name': 'Verity', 'year': 2023, 'student_address': 'chennai'}\n"
     ]
    }
   ],
   "source": [
    "#) 25. not displaying particular row data from two columns\n",
    "old = {'student_address': 'salem'}\n",
    "new = {'$unset':{ 'year': 2023}}\n",
    "\n",
    "db.col.update_many(old,new)\n",
    "for doc in db.col.find({},{'_id':0,'student_name':1,'year':1,'student_address': 1}):\n",
    "    print(doc)"
   ]
  },
  {
   "cell_type": "code",
   "execution_count": 78,
   "id": "de0cdf09-1eab-49c4-94fb-04c69b5d25ad",
   "metadata": {},
   "outputs": [
    {
     "name": "stdout",
     "output_type": "stream",
     "text": [
      "{'student_name': 'Juniper', 'gender': 'F', 'WFH': 'yes'}\n",
      "{'student_name': 'Devin', 'gender': 'M'}\n",
      "{'student_name': 'Brooke', 'gender': 'F', 'WFH': 'yes'}\n",
      "{'student_name': 'Asher', 'gender': 'F', 'WFH': 'yes'}\n",
      "{'student_name': 'Wyatt', 'gender': 'M'}\n",
      "{'student_name': 'Estelle', 'gender': 'F', 'WFH': 'yes'}\n",
      "{'student_name': 'Heath', 'gender': 'M'}\n",
      "{'student_name': 'Imogene', 'gender': 'F', 'WFH': 'yes'}\n",
      "{'student_name': 'Archer', 'gender': 'M'}\n",
      "{'student_name': 'Penelope', 'gender': 'F', 'WFH': 'yes'}\n",
      "{'student_name': 'Henry', 'gender': 'M'}\n",
      "{'student_name': 'Violet', 'gender': 'F', 'WFH': 'yes'}\n",
      "{'student_name': 'Theodore', 'gender': 'M'}\n",
      "{'student_name': 'Verity', 'gender': 'F', 'WFH': 'yes'}\n"
     ]
    }
   ],
   "source": [
    "#) 26. adding new column for particular row data\n",
    "old = {'gender': 'F'}\n",
    "new = {'$set':{ 'WFH': \"yes\"}}\n",
    "\n",
    "db.col.update_many(old,new)\n",
    "for doc in db.col.find({},{'_id':0,'student_name':1, 'gender':1,'WFH':1}):\n",
    "    print(doc)"
   ]
  },
  {
   "cell_type": "code",
   "execution_count": 79,
   "id": "7ade4064-a5be-4325-8374-fee02211c7fc",
   "metadata": {},
   "outputs": [
    {
     "name": "stdout",
     "output_type": "stream",
     "text": [
      "{'student_name': 'Juniper'}\n",
      "{'student_name': 'Devin', 'year': 2018}\n",
      "{'student_name': 'Brooke', 'year': 2021}\n",
      "{'student_name': 'Asher'}\n",
      "{'student_name': 'Wyatt'}\n",
      "{'student_name': 'Estelle', 'year': 2023}\n",
      "{'student_name': 'Heath', 'year': 2022}\n",
      "{'student_name': 'Imogene'}\n",
      "{'student_name': 'Archer'}\n",
      "{'student_name': 'Penelope'}\n",
      "{'student_name': 'Henry', 'year': 2024, 'duration_months': 10}\n",
      "{'student_name': 'Violet', 'year': 2023}\n",
      "{'student_name': 'Theodore', 'year': 2022}\n",
      "{'student_name': 'Verity', 'year': 2023}\n"
     ]
    }
   ],
   "source": [
    "#) 26. adding new column for particular row data\n",
    "old = {'year': 2024}\n",
    "new = {'$set':{ 'duration_months': 10}}\n",
    "\n",
    "db.col.update_many(old,new)\n",
    "for doc in db.col.find({},{'_id':0,'student_name':1, 'year': 2024,'duration_months': 10}):\n",
    "    print(doc)"
   ]
  },
  {
   "cell_type": "code",
   "execution_count": 80,
   "id": "5a6cb79b-8a54-4748-b3f8-b8c49e0e9d02",
   "metadata": {},
   "outputs": [
    {
     "name": "stdout",
     "output_type": "stream",
     "text": [
      "{'student_name': 'Juniper', 'gender_type': 'child'}\n",
      "{'student_name': 'Devin'}\n",
      "{'student_name': 'Brooke'}\n",
      "{'student_name': 'Asher'}\n",
      "{'student_name': 'Wyatt'}\n",
      "{'student_name': 'Estelle'}\n",
      "{'student_name': 'Heath'}\n",
      "{'student_name': 'Imogene'}\n",
      "{'student_name': 'Archer'}\n",
      "{'student_name': 'Penelope'}\n",
      "{'student_name': 'Henry'}\n",
      "{'student_name': 'Violet'}\n",
      "{'student_name': 'Theodore'}\n",
      "{'student_name': 'Verity'}\n"
     ]
    }
   ],
   "source": [
    "#) 26. adding new column for particular row data\n",
    "old = {'student_name': 'Juniper'}\n",
    "new = {'$set':{ 'gender_type': 'child'}}\n",
    "\n",
    "db.col.update_many(old,new)\n",
    "for doc in db.col.find({},{'_id':0,'student_name':1, 'gender_type': 1}):\n",
    "    print(doc)"
   ]
  },
  {
   "cell_type": "code",
   "execution_count": 83,
   "id": "3b64d506-022e-4c53-a571-1a55bd8dada8",
   "metadata": {},
   "outputs": [
    {
     "name": "stdout",
     "output_type": "stream",
     "text": [
      "{'student_name': 'Juniper'}\n",
      "{'student_name': 'Devin'}\n",
      "{'student_name': 'Brooke'}\n",
      "{'student_name': 'Asher'}\n",
      "{'student_name': 'Wyatt'}\n",
      "{'student_name': 'Estelle'}\n",
      "{'student_name': 'Heath'}\n",
      "{'student_name': 'Imogene'}\n",
      "{'student_name': 'Archer'}\n",
      "{'student_name': 'Penelope'}\n",
      "{'student_name': 'Henry'}\n",
      "{'student_name': 'Violet'}\n",
      "{'student_name': 'Theodore'}\n"
     ]
    }
   ],
   "source": [
    "#) 27. deleting one doc\n",
    "condition ={'student_name': 'Verity'}\n",
    "db.col.delete_one(condition)\n",
    "\n",
    "for doc in db.col.find({},{'_id':0,'student_name':1}):\n",
    "    print(doc)"
   ]
  },
  {
   "cell_type": "code",
   "execution_count": 85,
   "id": "86664394-43a3-4eae-935a-ef3068e2d1da",
   "metadata": {},
   "outputs": [
    {
     "name": "stdout",
     "output_type": "stream",
     "text": [
      "{'student_name': 'Juniper', 'course': 'python', 'marks': 87.5, 'student_address': 'trichy', 'gender': 'F', 'WFH': 'yes', 'gender_type': 'child'}\n",
      "{'student_name': 'Brooke', 'course': 'AIML', 'year': 2021, 'marks': 69, 'student_address': 'nellai', 'gender': 'F', 'WFH': 'yes'}\n",
      "{'student_name': 'Asher', 'course': 'python', 'marks': 93, 'student_address': 'bangalore', 'gender': 'F', 'WFH': 'yes'}\n",
      "{'student_name': 'Estelle', 'course': 'AIML', 'session': 'AN', 'year': 2023, 'marks': 76.5, 'student_address': 'chennai', 'gender': 'F', 'WFH': 'yes'}\n",
      "{'student_name': 'Imogene', 'course': 'python', 'session': 'AN', 'marks': 72.4, 'student_address': 'delhi', 'gender': 'F', 'WFH': 'yes'}\n",
      "{'student_name': 'Penelope', 'course': 'ML', 'session': 'FN', 'marks': 71.2, 'student_address': 'salem', 'gender': 'F', 'WFH': 'yes'}\n",
      "{'student_name': 'Violet', 'course': 'DS', 'session': 'FN', 'year': 2023, 'marks': 67.9, 'student_address': 'ooty', 'gender': 'F', 'WFH': 'yes'}\n"
     ]
    }
   ],
   "source": [
    "#) 27. deleting one doc\n",
    "condition ={'gender':'M'}\n",
    "db.col.delete_many(condition)\n",
    "\n",
    "for doc in db.col.find({},{'_id':0}):\n",
    "    print(doc)"
   ]
  },
  {
   "cell_type": "code",
   "execution_count": null,
   "id": "70f2d639-590f-4f1c-a76c-22b13e6efc68",
   "metadata": {},
   "outputs": [],
   "source": []
  }
 ],
 "metadata": {
  "kernelspec": {
   "display_name": "Python 3 (ipykernel)",
   "language": "python",
   "name": "python3"
  },
  "language_info": {
   "codemirror_mode": {
    "name": "ipython",
    "version": 3
   },
   "file_extension": ".py",
   "mimetype": "text/x-python",
   "name": "python",
   "nbconvert_exporter": "python",
   "pygments_lexer": "ipython3",
   "version": "3.12.0"
  }
 },
 "nbformat": 4,
 "nbformat_minor": 5
}
